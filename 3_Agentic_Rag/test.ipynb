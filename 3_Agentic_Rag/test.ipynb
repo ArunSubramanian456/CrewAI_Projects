{
 "cells": [
  {
   "cell_type": "code",
   "execution_count": 4,
   "id": "a56f45a1",
   "metadata": {},
   "outputs": [
    {
     "data": {
      "text/plain": [
       "True"
      ]
     },
     "execution_count": 4,
     "metadata": {},
     "output_type": "execute_result"
    }
   ],
   "source": [
    "import os\n",
    "from dotenv import load_dotenv\n",
    "load_dotenv()"
   ]
  },
  {
   "cell_type": "code",
   "execution_count": 43,
   "id": "1badd0a8",
   "metadata": {},
   "outputs": [],
   "source": [
    "from markitdown import MarkItDown\n",
    "from langchain_text_splitters import RecursiveCharacterTextSplitter"
   ]
  },
  {
   "cell_type": "code",
   "execution_count": 45,
   "id": "af6641e7",
   "metadata": {},
   "outputs": [],
   "source": [
    "md = MarkItDown()\n",
    "result = md.convert(r\"C:\\Users\\aruns\\Downloads\\A Comprehensive Guide to Prompt Engineering.pdf\")"
   ]
  },
  {
   "cell_type": "code",
   "execution_count": 46,
   "id": "dd080012",
   "metadata": {},
   "outputs": [],
   "source": [
    "text_splitter = RecursiveCharacterTextSplitter(\n",
    "            chunk_size=1000,\n",
    "            chunk_overlap=200,\n",
    "        )"
   ]
  },
  {
   "cell_type": "code",
   "execution_count": 47,
   "id": "c30fc86b",
   "metadata": {},
   "outputs": [],
   "source": [
    "chunks = text_splitter.split_text(result.text_content)"
   ]
  },
  {
   "cell_type": "code",
   "execution_count": 48,
   "id": "221fa527",
   "metadata": {},
   "outputs": [
    {
     "data": {
      "text/plain": [
       "list"
      ]
     },
     "execution_count": 48,
     "metadata": {},
     "output_type": "execute_result"
    }
   ],
   "source": [
    "type(chunks)"
   ]
  },
  {
   "cell_type": "code",
   "execution_count": 52,
   "id": "318645b3",
   "metadata": {},
   "outputs": [],
   "source": [
    "from langchain_community.document_loaders import PyPDFLoader"
   ]
  },
  {
   "cell_type": "code",
   "execution_count": 70,
   "id": "cd9cd0d4",
   "metadata": {},
   "outputs": [],
   "source": [
    "file_path = r\"C:\\Users\\aruns\\Downloads\\A Comprehensive Guide to Prompt Engineering.pdf\"\n",
    "loader = PyPDFLoader(file_path)"
   ]
  },
  {
   "cell_type": "code",
   "execution_count": 71,
   "id": "dc050a98",
   "metadata": {},
   "outputs": [
    {
     "data": {
      "text/plain": [
       "Document(metadata={'producer': 'Microsoft® Word 2019', 'creator': 'Microsoft® Word 2019', 'creationdate': '2025-07-12T15:21:02-05:00', 'author': 'Arun Subramanian', 'moddate': '2025-07-12T15:21:02-05:00', 'source': 'C:\\\\Users\\\\aruns\\\\Downloads\\\\A Comprehensive Guide to Prompt Engineering.pdf', 'total_pages': 9, 'page': 0, 'page_label': '1'}, page_content='A Comprehensive Guide to Prompt Engineering  \\nTable of Contents \\n1. Introduction to Prompt Engineering \\n2. Why is Prompt Engineering Important? \\n3. Core Concepts in Prompt Engineering  \\no Understanding Large Language Models (LLMs)  \\no The Anatomy of a Good Prompt \\no Input, Output, and Context \\n4. Key Strategies and Techniques \\no Clarity and Specificity \\no Role-Playing \\no Few-Shot Learning \\no Chain-of-Thought (CoT) Prompting \\no Zero-Shot CoT \\no Self-Consistency \\no Generated Knowledge Prompting \\no Tree of Thoughts (ToT) \\no Retrieval-Augmented Generation (RAG) \\no Iterative Prompt Refinement \\no Controlling Output Format \\no Handling Ambiguity and Constraints  \\n5. Advanced Prompting Techniques \\no Fine-tuning vs. Prompt Engineering  \\no Prompt Chaining and Agentic Systems \\no Adversarial Prompting / Red Teaming \\n6. Best Practices and Tips')"
      ]
     },
     "execution_count": 71,
     "metadata": {},
     "output_type": "execute_result"
    }
   ],
   "source": [
    "docs = loader.load()\n",
    "docs[0]"
   ]
  },
  {
   "cell_type": "code",
   "execution_count": 72,
   "id": "e4703fec",
   "metadata": {},
   "outputs": [
    {
     "data": {
      "text/plain": [
       "list"
      ]
     },
     "execution_count": 72,
     "metadata": {},
     "output_type": "execute_result"
    }
   ],
   "source": [
    "type(docs)"
   ]
  },
  {
   "cell_type": "code",
   "execution_count": 55,
   "id": "e1184fe2",
   "metadata": {},
   "outputs": [],
   "source": [
    "chunks = text_splitter.split_documents(docs)"
   ]
  },
  {
   "cell_type": "code",
   "execution_count": 73,
   "id": "9654ad70",
   "metadata": {},
   "outputs": [
    {
     "name": "stdout",
     "output_type": "stream",
     "text": [
      "A Comprehensive Guide to Prompt Engineering.pdf\n",
      "1\n"
     ]
    }
   ],
   "source": [
    "print(chunks[0].metadata['source'].split(\"\\\\\")[-1])\n",
    "print(chunks[0].metadata['page_label'])"
   ]
  },
  {
   "cell_type": "code",
   "execution_count": 57,
   "id": "eb40f40e",
   "metadata": {},
   "outputs": [
    {
     "data": {
      "text/plain": [
       "'A Comprehensive Guide to Prompt Engineering  \\nTable of Contents \\n1. Introduction to Prompt Engineering \\n2. Why is Prompt Engineering Important? \\n3. Core Concepts in Prompt Engineering  \\no Understanding Large Language Models (LLMs)  \\no The Anatomy of a Good Prompt \\no Input, Output, and Context \\n4. Key Strategies and Techniques \\no Clarity and Specificity \\no Role-Playing \\no Few-Shot Learning \\no Chain-of-Thought (CoT) Prompting \\no Zero-Shot CoT \\no Self-Consistency \\no Generated Knowledge Prompting \\no Tree of Thoughts (ToT) \\no Retrieval-Augmented Generation (RAG) \\no Iterative Prompt Refinement \\no Controlling Output Format \\no Handling Ambiguity and Constraints  \\n5. Advanced Prompting Techniques \\no Fine-tuning vs. Prompt Engineering  \\no Prompt Chaining and Agentic Systems \\no Adversarial Prompting / Red Teaming \\n6. Best Practices and Tips'"
      ]
     },
     "execution_count": 57,
     "metadata": {},
     "output_type": "execute_result"
    }
   ],
   "source": [
    "chunks[0].page_content"
   ]
  },
  {
   "cell_type": "code",
   "execution_count": null,
   "id": "331e4598",
   "metadata": {},
   "outputs": [],
   "source": []
  }
 ],
 "metadata": {
  "kernelspec": {
   "display_name": "crewaidemo",
   "language": "python",
   "name": "python3"
  },
  "language_info": {
   "codemirror_mode": {
    "name": "ipython",
    "version": 3
   },
   "file_extension": ".py",
   "mimetype": "text/x-python",
   "name": "python",
   "nbconvert_exporter": "python",
   "pygments_lexer": "ipython3",
   "version": "3.12.6"
  }
 },
 "nbformat": 4,
 "nbformat_minor": 5
}
